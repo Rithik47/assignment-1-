{
 "cells": [
  {
   "cell_type": "markdown",
   "id": "21227e2d",
   "metadata": {},
   "source": [
    "1. Write a program which will find all such numbers that are divisible by 7 but are not a multiple of 5,\n",
    "   between 2000 and 3200 (both included). The numbers should be printed on the output screen.\n",
    " \n",
    "\n"
   ]
  },
  {
   "cell_type": "code",
   "execution_count": 2,
   "id": "9d5966a6",
   "metadata": {},
   "outputs": [
    {
     "name": "stdout",
     "output_type": "stream",
     "text": [
      "2002\n",
      "2009\n",
      "2016\n",
      "2023\n",
      "2037\n",
      "2044\n",
      "2051\n",
      "2058\n",
      "2072\n",
      "2079\n",
      "2086\n",
      "2093\n",
      "2107\n",
      "2114\n",
      "2121\n",
      "2128\n",
      "2142\n",
      "2149\n",
      "2156\n",
      "2163\n",
      "2177\n",
      "2184\n",
      "2191\n",
      "2198\n",
      "2212\n",
      "2219\n",
      "2226\n",
      "2233\n",
      "2247\n",
      "2254\n",
      "2261\n",
      "2268\n",
      "2282\n",
      "2289\n",
      "2296\n",
      "2303\n",
      "2317\n",
      "2324\n",
      "2331\n",
      "2338\n",
      "2352\n",
      "2359\n",
      "2366\n",
      "2373\n",
      "2387\n",
      "2394\n",
      "2401\n",
      "2408\n",
      "2422\n",
      "2429\n",
      "2436\n",
      "2443\n",
      "2457\n",
      "2464\n",
      "2471\n",
      "2478\n",
      "2492\n",
      "2499\n",
      "2506\n",
      "2513\n",
      "2527\n",
      "2534\n",
      "2541\n",
      "2548\n",
      "2562\n",
      "2569\n",
      "2576\n",
      "2583\n",
      "2597\n",
      "2604\n",
      "2611\n",
      "2618\n",
      "2632\n",
      "2639\n",
      "2646\n",
      "2653\n",
      "2667\n",
      "2674\n",
      "2681\n",
      "2688\n",
      "2702\n",
      "2709\n",
      "2716\n",
      "2723\n",
      "2737\n",
      "2744\n",
      "2751\n",
      "2758\n",
      "2772\n",
      "2779\n",
      "2786\n",
      "2793\n",
      "2807\n",
      "2814\n",
      "2821\n",
      "2828\n",
      "2842\n",
      "2849\n",
      "2856\n",
      "2863\n",
      "2877\n",
      "2884\n",
      "2891\n",
      "2898\n",
      "2912\n",
      "2919\n",
      "2926\n",
      "2933\n",
      "2947\n",
      "2954\n",
      "2961\n",
      "2968\n",
      "2982\n",
      "2989\n",
      "2996\n",
      "3003\n",
      "3017\n",
      "3024\n",
      "3031\n",
      "3038\n",
      "3052\n",
      "3059\n",
      "3066\n",
      "3073\n",
      "3087\n",
      "3094\n",
      "3101\n",
      "3108\n",
      "3122\n",
      "3129\n",
      "3136\n",
      "3143\n",
      "3157\n",
      "3164\n",
      "3171\n",
      "3178\n",
      "3192\n",
      "3199\n"
     ]
    }
   ],
   "source": [
    "for num in range(2000, 3201):\n",
    "    if num % 7 == 0 and num % 5 !       = 0:\n",
    "        print(num) "
   ]
  },
  {
   "cell_type": "markdown",
   "id": "966ff1c7",
   "metadata": {},
   "source": [
    " 2. Write a program that can compute the factorial of a given number. The number whose factorial is to be\n",
    "    computed is input from the keyboard.\n",
    "(Hint: Factorial of 3, also written as 3! = 3 X 2 X 1. Similarly, 5! = 5 X 4 X 3 X 2 X 1 )"
   ]
  },
  {
   "cell_type": "code",
   "execution_count": 1,
   "id": "94744a92",
   "metadata": {},
   "outputs": [
    {
     "name": "stdout",
     "output_type": "stream",
     "text": [
      "Enter a number: 5\n",
      "The factorial of 5 is 120\n"
     ]
    }
   ],
   "source": [
    "num = int(input(\"Enter a number: \"))\n",
    "\n",
    "factorial = 1\n",
    "for i in range(1, num + 1):\n",
    "    factorial *= i\n",
    "\n",
    "print(f\"The factorial of {num} is {factorial}\")"
   ]
  },
  {
   "cell_type": "markdown",
   "id": "0c448b18",
   "metadata": {},
   "source": [
    "5. Write a program which can produce a dictionary where the keys are numbers between 1 and 20 (both\n",
    "   included) and the values are the square of keys. The program should print the values only."
   ]
  },
  {
   "cell_type": "code",
   "execution_count": 2,
   "id": "8ee81a1e",
   "metadata": {},
   "outputs": [
    {
     "name": "stdout",
     "output_type": "stream",
     "text": [
      "1\n",
      "4\n",
      "9\n",
      "16\n",
      "25\n",
      "36\n",
      "49\n",
      "64\n",
      "81\n",
      "100\n",
      "121\n",
      "144\n",
      "169\n",
      "196\n",
      "225\n",
      "256\n",
      "289\n",
      "324\n",
      "361\n",
      "400\n"
     ]
    }
   ],
   "source": [
    "squares = {}\n",
    "for num in range(1, 21):\n",
    "    squares[num] = num ** 2\n",
    "    print(squares[num])\n"
   ]
  },
  {
   "cell_type": "markdown",
   "id": "74f90089",
   "metadata": {},
   "source": [
    " 6. Write a program which can generate and print a list where the values are square of numbers between 1 and 20\n",
    "                                                    "
   ]
  },
  {
   "cell_type": "code",
   "execution_count": 3,
   "id": "1f594899",
   "metadata": {},
   "outputs": [
    {
     "name": "stdout",
     "output_type": "stream",
     "text": [
      "[1, 4, 9, 16, 25, 36, 49, 64, 81, 100, 121, 144, 169, 196, 225, 256, 289, 324, 361, 400]\n"
     ]
    }
   ],
   "source": [
    "squares = []\n",
    "for i in range(1, 21):\n",
    "    squares.append(i**2)\n",
    "\n",
    "print(squares)\n"
   ]
  },
  {
   "cell_type": "markdown",
   "id": "0395cf2d",
   "metadata": {},
   "source": [
    "8. Write a program to convert Celsius (C) values into Fahrenheit (F). The program should ask for Celsius\n",
    "   value from the user and print the Fahrenheit value as an output.\n",
    "  "
   ]
  },
  {
   "cell_type": "code",
   "execution_count": 4,
   "id": "5b080dce",
   "metadata": {},
   "outputs": [
    {
     "name": "stdout",
     "output_type": "stream",
     "text": [
      "Enter temperature in Celsius: 39\n",
      "39.0°C is equal to 102.2°F\n"
     ]
    }
   ],
   "source": [
    "celsius = float(input(\"Enter temperature in Celsius: \"))\n",
    "fahrenheit = (celsius * 9/5) + 32\n",
    "print(f\"{celsius}°C is equal to {fahrenheit}°F\")\n"
   ]
  },
  {
   "cell_type": "markdown",
   "id": "8c1ff1c2",
   "metadata": {},
   "source": [
    "9. Write a program which accepts a string as input from the keyboard. If the input string is \"even\" or\n",
    "   \"EVEN\" or \"Even\", print the even numbers from the list (my_numbers) given below. If the string is \"odd\" or\n",
    "   \"ODD\" or \"Odd\", print the odd numbers from the list. Otherwise simply print “Unknown Input!”\n",
    "                \n",
    "                my_numbers = [7, 2, 4, 11, 19, 24, 66, 1, 42, 22, 37, 5, 3, 92, 73]\n",
    "                "
   ]
  },
  {
   "cell_type": "code",
   "execution_count": 5,
   "id": "665b5c90",
   "metadata": {},
   "outputs": [
    {
     "name": "stdout",
     "output_type": "stream",
     "text": [
      "Enter 'even' or 'odd': 21\n",
      "Unknown Input!\n"
     ]
    }
   ],
   "source": [
    "my_numbers = [7, 2, 4, 11, 19, 24, 66, 1, 42, 22, 37, 5, 3, 92, 73]\n",
    "\n",
    "input_string = input(\"Enter 'even' or 'odd': \")\n",
    "\n",
    "if input_string.lower() == \"even\":\n",
    "    for num in my_numbers:\n",
    "        if num % 2 == 0:\n",
    "            print(num)\n",
    "elif input_string.lower() == \"odd\":\n",
    "    for num in my_numbers:\n",
    "        if num % 2 != 0:\n",
    "            print(num)\n",
    "else:\n",
    "    print(\"Unknown Input!\")\n"
   ]
  },
  {
   "cell_type": "markdown",
   "id": "d5deef1b",
   "metadata": {},
   "source": [
    "10. Write a program that prints the numbers from 1 to 20. But for multiples of three print “Fizz” instead of\n",
    "    the number and for the multiples of five print “Buzz”. For numbers which are multiples of both three and\n",
    "     five print “Fizz Buzz”."
   ]
  },
  {
   "cell_type": "code",
   "execution_count": 6,
   "id": "4a1caa15",
   "metadata": {},
   "outputs": [
    {
     "name": "stdout",
     "output_type": "stream",
     "text": [
      "1\n",
      "2\n",
      "Fizz\n",
      "4\n",
      "Buzz\n",
      "Fizz\n",
      "7\n",
      "8\n",
      "Fizz\n",
      "Buzz\n",
      "11\n",
      "Fizz\n",
      "13\n",
      "14\n",
      "Fizz Buzz\n",
      "16\n",
      "17\n",
      "Fizz\n",
      "19\n",
      "Buzz\n"
     ]
    }
   ],
   "source": [
    "for i in range(1, 21):\n",
    "    if i % 3 == 0 and i % 5 == 0:\n",
    "        print(\"Fizz Buzz\")\n",
    "    elif i % 3 == 0:\n",
    "        print(\"Fizz\")\n",
    "    elif i % 5 == 0:\n",
    "        print(\"Buzz\")\n",
    "    else:\n",
    "        print(i)\n"
   ]
  },
  {
   "cell_type": "code",
   "execution_count": null,
   "id": "13ab92f8",
   "metadata": {},
   "outputs": [],
   "source": []
  }
 ],
 "metadata": {
  "kernelspec": {
   "display_name": "Python 3 (ipykernel)",
   "language": "python",
   "name": "python3"
  },
  "language_info": {
   "codemirror_mode": {
    "name": "ipython",
    "version": 3
   },
   "file_extension": ".py",
   "mimetype": "text/x-python",
   "name": "python",
   "nbconvert_exporter": "python",
   "pygments_lexer": "ipython3",
   "version": "3.9.13"
  },
  "vscode": {
   "interpreter": {
    "hash": "d417a21d97a2e6b8832d21dc44f5cbe4be6e18325f874a8bb8484565b928cd54"
   }
  }
 },
 "nbformat": 4,
 "nbformat_minor": 5
}
